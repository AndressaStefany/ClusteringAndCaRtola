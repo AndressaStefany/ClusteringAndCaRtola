{
  "nbformat": 4,
  "nbformat_minor": 0,
  "metadata": {
    "colab": {
      "name": "Clustering.ipynb",
      "version": "0.3.2",
      "provenance": [],
      "collapsed_sections": []
    },
    "kernelspec": {
      "name": "python3",
      "display_name": "Python 3"
    }
  },
  "cells": [
    {
      "metadata": {
        "id": "ojjLYTUcjdtX",
        "colab_type": "text"
      },
      "cell_type": "markdown",
      "source": [
        "# Clustering com Dados do Cartola FC"
      ]
    },
    {
      "metadata": {
        "id": "mp-bQ-zYopNE",
        "colab_type": "text"
      },
      "cell_type": "markdown",
      "source": [
        "## 1.0 Dataset\n",
        "\n",
        "Foram utilizados dados do Cartola FC obtido através do seguinte [respositório](https://github.com/henriquepgomide/caRtola) do GitHub. O CSV utilizado foi o \"dados_agregados_limpos.csv\", o qual é a junção dos dados dos anos de 2014 a 2018, além de serem dados já tratados sem a presença de NaN.\n",
        "\n",
        "Cada linha representa...\n",
        "\n",
        "Colunas relevantes:\n",
        "- Rodada: número da rodada do Brasileirão\n",
        "- ClubeID: clube do jogador\n",
        "- AtletaID: id do jogador\n",
        "- Posicao: posição do jogador\n",
        "- Pontos: pontuação do jogador\n",
        "- PontosMedia: média da pontuação do jogador\n",
        "- FS: faltas sofridas\n",
        "- PE: passes errados\n",
        "- A: assistências\n",
        "- FT: finalizações na trave\n",
        "- FD: finalizações defendidas\n",
        "- FF: finalizações para fora\n",
        "- G: gols\n",
        "- I: impedimentos\n",
        "- FC: faltas cometidas\n",
        "- CA: cartões amarelo\n",
        "- CV: cartões vermelho\n",
        "- SG: jogos sem sofrer gols\n",
        "- GS: gols sofridos\n",
        "- RB: roubadas de bola\n",
        "- DD: defesas difíceis\n",
        "- DP: defesas de pênalti\n",
        "\n",
        "Primeiro, será clusterizado os jogadores separadamente, ou seja, o agrupamento será feito separadamente para cada posição (goleiro, zagueiro, atacante, lateral e meia).\n",
        "\n",
        "Após essa primeira etapa, será feito..."
      ]
    },
    {
      "metadata": {
        "id": "Y-yLQEtFjB5C",
        "colab_type": "code",
        "colab": {
          "base_uri": "https://localhost:8080/",
          "height": 34
        },
        "outputId": "13b94198-9a20-4c24-bc9a-3778277c4000"
      },
      "cell_type": "code",
      "source": [
        "import pandas as pd\n",
        "\n",
        "dados_agregados = pd.read_csv('dados_agregados_limpos.csv')\n",
        "dados_agregados.shape"
      ],
      "execution_count": 2,
      "outputs": [
        {
          "output_type": "execute_result",
          "data": {
            "text/plain": [
              "(17567, 77)"
            ]
          },
          "metadata": {
            "tags": []
          },
          "execution_count": 2
        }
      ]
    },
    {
      "metadata": {
        "id": "OlSEnIfQsL1_",
        "colab_type": "text"
      },
      "cell_type": "markdown",
      "source": [
        "## 2.0 Explorando os dados"
      ]
    },
    {
      "metadata": {
        "id": "4mt_m1ggsjFe",
        "colab_type": "text"
      },
      "cell_type": "markdown",
      "source": [
        "### 2.1 Tipos de posição e a quantidade:"
      ]
    },
    {
      "metadata": {
        "id": "iOB8AjJ-r7_u",
        "colab_type": "code",
        "colab": {
          "base_uri": "https://localhost:8080/",
          "height": 119
        },
        "outputId": "d79327d9-185b-43a2-8909-a88e67119b03"
      },
      "cell_type": "code",
      "source": [
        "dados_agregados.Posicao.value_counts()"
      ],
      "execution_count": 4,
      "outputs": [
        {
          "output_type": "execute_result",
          "data": {
            "text/plain": [
              "mei    6516\n",
              "ata    4050\n",
              "lat    3045\n",
              "zag    2628\n",
              "gol    1328\n",
              "Name: Posicao, dtype: int64"
            ]
          },
          "metadata": {
            "tags": []
          },
          "execution_count": 4
        }
      ]
    },
    {
      "metadata": {
        "id": "tOOJ7DO1wajb",
        "colab_type": "text"
      },
      "cell_type": "markdown",
      "source": [
        "### 2.2 Descrição das colunas"
      ]
    },
    {
      "metadata": {
        "id": "55_8WFwruVsw",
        "colab_type": "code",
        "colab": {
          "base_uri": "https://localhost:8080/",
          "height": 317
        },
        "outputId": "9e6d8b61-1aa6-49e9-b680-b58bfbb5207d"
      },
      "cell_type": "code",
      "source": [
        "colunas = ['Pontos','PontosMedia','FS','PE','A','FT','FF','FC',\n",
        "           'FD','G','I','RB','CA','CV','SG','DD','DP','GS']\n",
        "\n",
        "dados_agregados[colunas].describe()"
      ],
      "execution_count": 17,
      "outputs": [
        {
          "output_type": "execute_result",
          "data": {
            "text/html": [
              "<div>\n",
              "<style scoped>\n",
              "    .dataframe tbody tr th:only-of-type {\n",
              "        vertical-align: middle;\n",
              "    }\n",
              "\n",
              "    .dataframe tbody tr th {\n",
              "        vertical-align: top;\n",
              "    }\n",
              "\n",
              "    .dataframe thead th {\n",
              "        text-align: right;\n",
              "    }\n",
              "</style>\n",
              "<table border=\"1\" class=\"dataframe\">\n",
              "  <thead>\n",
              "    <tr style=\"text-align: right;\">\n",
              "      <th></th>\n",
              "      <th>Pontos</th>\n",
              "      <th>PontosMedia</th>\n",
              "      <th>FS</th>\n",
              "      <th>PE</th>\n",
              "      <th>A</th>\n",
              "      <th>FT</th>\n",
              "      <th>FF</th>\n",
              "      <th>FC</th>\n",
              "      <th>FD</th>\n",
              "      <th>G</th>\n",
              "      <th>I</th>\n",
              "      <th>RB</th>\n",
              "      <th>CA</th>\n",
              "      <th>CV</th>\n",
              "      <th>SG</th>\n",
              "      <th>DD</th>\n",
              "      <th>DP</th>\n",
              "      <th>GS</th>\n",
              "    </tr>\n",
              "  </thead>\n",
              "  <tbody>\n",
              "    <tr>\n",
              "      <th>count</th>\n",
              "      <td>17567.000000</td>\n",
              "      <td>17567.000000</td>\n",
              "      <td>17567.000000</td>\n",
              "      <td>17567.000000</td>\n",
              "      <td>17567.000000</td>\n",
              "      <td>17567.000000</td>\n",
              "      <td>17567.000000</td>\n",
              "      <td>17567.000000</td>\n",
              "      <td>17567.000000</td>\n",
              "      <td>17567.000000</td>\n",
              "      <td>17567.000000</td>\n",
              "      <td>17567.000000</td>\n",
              "      <td>17567.000000</td>\n",
              "      <td>17567.000000</td>\n",
              "      <td>17567.000000</td>\n",
              "      <td>17567.000000</td>\n",
              "      <td>17567.000000</td>\n",
              "      <td>17567.000000</td>\n",
              "    </tr>\n",
              "    <tr>\n",
              "      <th>mean</th>\n",
              "      <td>2.946798</td>\n",
              "      <td>2.960628</td>\n",
              "      <td>1.111914</td>\n",
              "      <td>2.315763</td>\n",
              "      <td>0.064325</td>\n",
              "      <td>0.018102</td>\n",
              "      <td>0.347356</td>\n",
              "      <td>1.159845</td>\n",
              "      <td>0.241305</td>\n",
              "      <td>0.090169</td>\n",
              "      <td>0.136847</td>\n",
              "      <td>1.026015</td>\n",
              "      <td>0.169693</td>\n",
              "      <td>0.008140</td>\n",
              "      <td>0.124039</td>\n",
              "      <td>0.115671</td>\n",
              "      <td>0.002505</td>\n",
              "      <td>0.090169</td>\n",
              "    </tr>\n",
              "    <tr>\n",
              "      <th>std</th>\n",
              "      <td>4.344379</td>\n",
              "      <td>2.050958</td>\n",
              "      <td>1.304447</td>\n",
              "      <td>2.042131</td>\n",
              "      <td>0.262381</td>\n",
              "      <td>0.135862</td>\n",
              "      <td>0.644317</td>\n",
              "      <td>1.260528</td>\n",
              "      <td>0.538621</td>\n",
              "      <td>0.315378</td>\n",
              "      <td>0.440791</td>\n",
              "      <td>1.265575</td>\n",
              "      <td>0.375980</td>\n",
              "      <td>0.090489</td>\n",
              "      <td>0.329636</td>\n",
              "      <td>0.552542</td>\n",
              "      <td>0.051112</td>\n",
              "      <td>0.435866</td>\n",
              "    </tr>\n",
              "    <tr>\n",
              "      <th>min</th>\n",
              "      <td>-10.500000</td>\n",
              "      <td>-8.400000</td>\n",
              "      <td>-3.000000</td>\n",
              "      <td>-6.000000</td>\n",
              "      <td>-1.000000</td>\n",
              "      <td>0.000000</td>\n",
              "      <td>-1.000000</td>\n",
              "      <td>-2.000000</td>\n",
              "      <td>-2.000000</td>\n",
              "      <td>0.000000</td>\n",
              "      <td>-1.000000</td>\n",
              "      <td>-4.000000</td>\n",
              "      <td>-1.000000</td>\n",
              "      <td>-1.000000</td>\n",
              "      <td>0.000000</td>\n",
              "      <td>0.000000</td>\n",
              "      <td>0.000000</td>\n",
              "      <td>0.000000</td>\n",
              "    </tr>\n",
              "    <tr>\n",
              "      <th>25%</th>\n",
              "      <td>0.000000</td>\n",
              "      <td>1.680000</td>\n",
              "      <td>0.000000</td>\n",
              "      <td>1.000000</td>\n",
              "      <td>0.000000</td>\n",
              "      <td>0.000000</td>\n",
              "      <td>0.000000</td>\n",
              "      <td>0.000000</td>\n",
              "      <td>0.000000</td>\n",
              "      <td>0.000000</td>\n",
              "      <td>0.000000</td>\n",
              "      <td>0.000000</td>\n",
              "      <td>0.000000</td>\n",
              "      <td>0.000000</td>\n",
              "      <td>0.000000</td>\n",
              "      <td>0.000000</td>\n",
              "      <td>0.000000</td>\n",
              "      <td>0.000000</td>\n",
              "    </tr>\n",
              "    <tr>\n",
              "      <th>50%</th>\n",
              "      <td>2.000000</td>\n",
              "      <td>2.880000</td>\n",
              "      <td>1.000000</td>\n",
              "      <td>2.000000</td>\n",
              "      <td>0.000000</td>\n",
              "      <td>0.000000</td>\n",
              "      <td>0.000000</td>\n",
              "      <td>1.000000</td>\n",
              "      <td>0.000000</td>\n",
              "      <td>0.000000</td>\n",
              "      <td>0.000000</td>\n",
              "      <td>1.000000</td>\n",
              "      <td>0.000000</td>\n",
              "      <td>0.000000</td>\n",
              "      <td>0.000000</td>\n",
              "      <td>0.000000</td>\n",
              "      <td>0.000000</td>\n",
              "      <td>0.000000</td>\n",
              "    </tr>\n",
              "    <tr>\n",
              "      <th>75%</th>\n",
              "      <td>5.200000</td>\n",
              "      <td>4.090000</td>\n",
              "      <td>2.000000</td>\n",
              "      <td>3.000000</td>\n",
              "      <td>0.000000</td>\n",
              "      <td>0.000000</td>\n",
              "      <td>1.000000</td>\n",
              "      <td>2.000000</td>\n",
              "      <td>0.000000</td>\n",
              "      <td>0.000000</td>\n",
              "      <td>0.000000</td>\n",
              "      <td>2.000000</td>\n",
              "      <td>0.000000</td>\n",
              "      <td>0.000000</td>\n",
              "      <td>0.000000</td>\n",
              "      <td>0.000000</td>\n",
              "      <td>0.000000</td>\n",
              "      <td>0.000000</td>\n",
              "    </tr>\n",
              "    <tr>\n",
              "      <th>max</th>\n",
              "      <td>33.000000</td>\n",
              "      <td>21.830000</td>\n",
              "      <td>12.000000</td>\n",
              "      <td>14.000000</td>\n",
              "      <td>4.000000</td>\n",
              "      <td>2.000000</td>\n",
              "      <td>7.000000</td>\n",
              "      <td>10.000000</td>\n",
              "      <td>6.000000</td>\n",
              "      <td>3.000000</td>\n",
              "      <td>7.000000</td>\n",
              "      <td>9.000000</td>\n",
              "      <td>1.000000</td>\n",
              "      <td>1.000000</td>\n",
              "      <td>1.000000</td>\n",
              "      <td>7.000000</td>\n",
              "      <td>2.000000</td>\n",
              "      <td>6.000000</td>\n",
              "    </tr>\n",
              "  </tbody>\n",
              "</table>\n",
              "</div>"
            ],
            "text/plain": [
              "             Pontos   PontosMedia            FS            PE             A  \\\n",
              "count  17567.000000  17567.000000  17567.000000  17567.000000  17567.000000   \n",
              "mean       2.946798      2.960628      1.111914      2.315763      0.064325   \n",
              "std        4.344379      2.050958      1.304447      2.042131      0.262381   \n",
              "min      -10.500000     -8.400000     -3.000000     -6.000000     -1.000000   \n",
              "25%        0.000000      1.680000      0.000000      1.000000      0.000000   \n",
              "50%        2.000000      2.880000      1.000000      2.000000      0.000000   \n",
              "75%        5.200000      4.090000      2.000000      3.000000      0.000000   \n",
              "max       33.000000     21.830000     12.000000     14.000000      4.000000   \n",
              "\n",
              "                 FT            FF            FC            FD             G  \\\n",
              "count  17567.000000  17567.000000  17567.000000  17567.000000  17567.000000   \n",
              "mean       0.018102      0.347356      1.159845      0.241305      0.090169   \n",
              "std        0.135862      0.644317      1.260528      0.538621      0.315378   \n",
              "min        0.000000     -1.000000     -2.000000     -2.000000      0.000000   \n",
              "25%        0.000000      0.000000      0.000000      0.000000      0.000000   \n",
              "50%        0.000000      0.000000      1.000000      0.000000      0.000000   \n",
              "75%        0.000000      1.000000      2.000000      0.000000      0.000000   \n",
              "max        2.000000      7.000000     10.000000      6.000000      3.000000   \n",
              "\n",
              "                  I            RB            CA            CV            SG  \\\n",
              "count  17567.000000  17567.000000  17567.000000  17567.000000  17567.000000   \n",
              "mean       0.136847      1.026015      0.169693      0.008140      0.124039   \n",
              "std        0.440791      1.265575      0.375980      0.090489      0.329636   \n",
              "min       -1.000000     -4.000000     -1.000000     -1.000000      0.000000   \n",
              "25%        0.000000      0.000000      0.000000      0.000000      0.000000   \n",
              "50%        0.000000      1.000000      0.000000      0.000000      0.000000   \n",
              "75%        0.000000      2.000000      0.000000      0.000000      0.000000   \n",
              "max        7.000000      9.000000      1.000000      1.000000      1.000000   \n",
              "\n",
              "                 DD            DP            GS  \n",
              "count  17567.000000  17567.000000  17567.000000  \n",
              "mean       0.115671      0.002505      0.090169  \n",
              "std        0.552542      0.051112      0.435866  \n",
              "min        0.000000      0.000000      0.000000  \n",
              "25%        0.000000      0.000000      0.000000  \n",
              "50%        0.000000      0.000000      0.000000  \n",
              "75%        0.000000      0.000000      0.000000  \n",
              "max        7.000000      2.000000      6.000000  "
            ]
          },
          "metadata": {
            "tags": []
          },
          "execution_count": 17
        }
      ]
    },
    {
      "metadata": {
        "id": "EcvGpl48yMNa",
        "colab_type": "text"
      },
      "cell_type": "markdown",
      "source": [
        "### 2.3 Tratar dados duplicados\n",
        "\n",
        "A problemática é a repetição do valor \"AtletaID\" nas linhas do dataset, visto que um atleta pode ter participado de várias partidas. Para resolver esse problema, será calculada a média das colunas a serem utilizadas."
      ]
    },
    {
      "metadata": {
        "id": "5HkXTJWf33jp",
        "colab_type": "text"
      },
      "cell_type": "markdown",
      "source": [
        "- conferir se AtletaID só tem um tipo de posição\n",
        "- se AtletaID participou de mais de um ClubeID"
      ]
    },
    {
      "metadata": {
        "id": "qN9zfWzT2foO",
        "colab_type": "code",
        "colab": {}
      },
      "cell_type": "code",
      "source": [
        "dados = dados_agregados.copy()\n",
        "dados = dados[['Rodada','ClubeID','AtletaID','Posicao','Pontos','PontosMedia','FS','PE','A','FT','FF','FC',\n",
        "           'FD','G','I','RB','CA','CV','SG','DD','DP','GS']]"
      ],
      "execution_count": 0,
      "outputs": []
    },
    {
      "metadata": {
        "id": "H5pByTBds1cH",
        "colab_type": "text"
      },
      "cell_type": "markdown",
      "source": [
        "### 2.4 Separação das posições dos jogadores\n",
        "\n",
        "Abaixo é feita a filtragem do dataframe de acordo com a posição dos jogaores."
      ]
    },
    {
      "metadata": {
        "id": "NlWwWhTKx4EZ",
        "colab_type": "code",
        "colab": {
          "base_uri": "https://localhost:8080/",
          "height": 255
        },
        "outputId": "33278877-7851-4909-9beb-33467535fce8"
      },
      "cell_type": "code",
      "source": [
        "dados_agregados.columns"
      ],
      "execution_count": 15,
      "outputs": [
        {
          "output_type": "execute_result",
          "data": {
            "text/plain": [
              "Index(['A', 'Apelido', 'AtletaID', 'CA', 'CV', 'ClubeID', 'DD', 'DP', 'FC',\n",
              "       'FD', 'FF', 'FS', 'FT', 'G', 'GC', 'GS', 'I', 'Jogos', 'PE', 'PP',\n",
              "       'Participou', 'Pontos', 'PontosMedia', 'Posicao', 'Preco',\n",
              "       'PrecoVariacao', 'RB', 'Rodada', 'SG', 'Status', 'ano', 'avg.A',\n",
              "       'avg.A.l05', 'avg.CA', 'avg.CV.l05', 'avg.DD', 'avg.DD.l05', 'avg.DP',\n",
              "       'avg.DP.l05', 'avg.FC', 'avg.FC.l05', 'avg.FD', 'avg.FD.l05', 'avg.FF',\n",
              "       'avg.FF.l05', 'avg.FS', 'avg.FS.l05', 'avg.FT', 'avg.FT.l05', 'avg.G',\n",
              "       'avg.G.l05', 'avg.GC', 'avg.GC.l05', 'avg.GS', 'avg.GS.l05', 'avg.I',\n",
              "       'avg.I.l05', 'avg.PE', 'avg.PE.l05', 'avg.PP', 'avg.PP.l05',\n",
              "       'avg.Points', 'avg.RB', 'avg.RB.l05', 'avg.SG', 'avg.SG.l05',\n",
              "       'avg.last05', 'away.score.x', 'dia', 'home.attack', 'home.defend',\n",
              "       'home.score.x', 'mes', 'pred.away.score', 'pred.home.score',\n",
              "       'risk_points', 'variable'],\n",
              "      dtype='object')"
            ]
          },
          "metadata": {
            "tags": []
          },
          "execution_count": 15
        }
      ]
    },
    {
      "metadata": {
        "id": "6ISIWusPs9Km",
        "colab_type": "code",
        "colab": {}
      },
      "cell_type": "code",
      "source": [
        "dados_meia = dados_agregados[dados_agregados['Posicao']=='mei']\n",
        "\n",
        "dados_atacante = dados_agregados[dados_agregados['Posicao']=='ata']\n",
        "\n",
        "dados_lateral = dados_agregados[dados_agregados['Posicao']=='lat']\n",
        "\n",
        "dados_zaga = dados_agregados[dados_agregados['Posicao']=='zag']\n",
        "\n",
        "dados_gol = dados_agregados[dados_agregados['Posicao']=='gol']"
      ],
      "execution_count": 0,
      "outputs": []
    }
  ]
}